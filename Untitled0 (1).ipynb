{
  "cells": [
    {
      "cell_type": "code",
      "execution_count": 1,
      "metadata": {
        "id": "8bNaH-AmIIl6"
      },
      "outputs": [],
      "source": [
        "import numpy as np\n",
        "import pandas as pd\n",
        "import matplotlib.pyplot as plt\n",
        "import seaborn as sns\n",
        "import warnings\n",
        "warnings.filterwarnings('ignore')\n",
        "import tensorflow as tf"
      ]
    },
    {
      "cell_type": "code",
      "execution_count": 4,
      "metadata": {
        "colab": {
          "base_uri": "https://localhost:8080/",
          "height": 250
        },
        "id": "BqvpZ00iIYv3",
        "outputId": "a188e86e-95e2-4d41-f82f-d038864e6ccc"
      },
      "outputs": [
        {
          "output_type": "execute_result",
          "data": {
            "text/plain": [
              "   step      type    amount     nameOrig  oldbalanceOrg  newbalanceOrig  \\\n",
              "0     1   PAYMENT   9839.64  C1231006815       170136.0       160296.36   \n",
              "1     1   PAYMENT   1864.28  C1666544295        21249.0        19384.72   \n",
              "2     1  TRANSFER    181.00  C1305486145          181.0            0.00   \n",
              "3     1  CASH_OUT    181.00   C840083671          181.0            0.00   \n",
              "4     1   PAYMENT  11668.14  C2048537720        41554.0        29885.86   \n",
              "\n",
              "      nameDest  oldbalanceDest  newbalanceDest  isFraud  isFlaggedFraud  \n",
              "0  M1979787155             0.0             0.0        0               0  \n",
              "1  M2044282225             0.0             0.0        0               0  \n",
              "2   C553264065             0.0             0.0        1               0  \n",
              "3    C38997010         21182.0             0.0        1               0  \n",
              "4  M1230701703             0.0             0.0        0               0  "
            ],
            "text/html": [
              "\n",
              "  <div id=\"df-688e0105-f5ec-42e2-9349-caefdcfedffd\">\n",
              "    <div class=\"colab-df-container\">\n",
              "      <div>\n",
              "<style scoped>\n",
              "    .dataframe tbody tr th:only-of-type {\n",
              "        vertical-align: middle;\n",
              "    }\n",
              "\n",
              "    .dataframe tbody tr th {\n",
              "        vertical-align: top;\n",
              "    }\n",
              "\n",
              "    .dataframe thead th {\n",
              "        text-align: right;\n",
              "    }\n",
              "</style>\n",
              "<table border=\"1\" class=\"dataframe\">\n",
              "  <thead>\n",
              "    <tr style=\"text-align: right;\">\n",
              "      <th></th>\n",
              "      <th>step</th>\n",
              "      <th>type</th>\n",
              "      <th>amount</th>\n",
              "      <th>nameOrig</th>\n",
              "      <th>oldbalanceOrg</th>\n",
              "      <th>newbalanceOrig</th>\n",
              "      <th>nameDest</th>\n",
              "      <th>oldbalanceDest</th>\n",
              "      <th>newbalanceDest</th>\n",
              "      <th>isFraud</th>\n",
              "      <th>isFlaggedFraud</th>\n",
              "    </tr>\n",
              "  </thead>\n",
              "  <tbody>\n",
              "    <tr>\n",
              "      <th>0</th>\n",
              "      <td>1</td>\n",
              "      <td>PAYMENT</td>\n",
              "      <td>9839.64</td>\n",
              "      <td>C1231006815</td>\n",
              "      <td>170136.0</td>\n",
              "      <td>160296.36</td>\n",
              "      <td>M1979787155</td>\n",
              "      <td>0.0</td>\n",
              "      <td>0.0</td>\n",
              "      <td>0</td>\n",
              "      <td>0</td>\n",
              "    </tr>\n",
              "    <tr>\n",
              "      <th>1</th>\n",
              "      <td>1</td>\n",
              "      <td>PAYMENT</td>\n",
              "      <td>1864.28</td>\n",
              "      <td>C1666544295</td>\n",
              "      <td>21249.0</td>\n",
              "      <td>19384.72</td>\n",
              "      <td>M2044282225</td>\n",
              "      <td>0.0</td>\n",
              "      <td>0.0</td>\n",
              "      <td>0</td>\n",
              "      <td>0</td>\n",
              "    </tr>\n",
              "    <tr>\n",
              "      <th>2</th>\n",
              "      <td>1</td>\n",
              "      <td>TRANSFER</td>\n",
              "      <td>181.00</td>\n",
              "      <td>C1305486145</td>\n",
              "      <td>181.0</td>\n",
              "      <td>0.00</td>\n",
              "      <td>C553264065</td>\n",
              "      <td>0.0</td>\n",
              "      <td>0.0</td>\n",
              "      <td>1</td>\n",
              "      <td>0</td>\n",
              "    </tr>\n",
              "    <tr>\n",
              "      <th>3</th>\n",
              "      <td>1</td>\n",
              "      <td>CASH_OUT</td>\n",
              "      <td>181.00</td>\n",
              "      <td>C840083671</td>\n",
              "      <td>181.0</td>\n",
              "      <td>0.00</td>\n",
              "      <td>C38997010</td>\n",
              "      <td>21182.0</td>\n",
              "      <td>0.0</td>\n",
              "      <td>1</td>\n",
              "      <td>0</td>\n",
              "    </tr>\n",
              "    <tr>\n",
              "      <th>4</th>\n",
              "      <td>1</td>\n",
              "      <td>PAYMENT</td>\n",
              "      <td>11668.14</td>\n",
              "      <td>C2048537720</td>\n",
              "      <td>41554.0</td>\n",
              "      <td>29885.86</td>\n",
              "      <td>M1230701703</td>\n",
              "      <td>0.0</td>\n",
              "      <td>0.0</td>\n",
              "      <td>0</td>\n",
              "      <td>0</td>\n",
              "    </tr>\n",
              "  </tbody>\n",
              "</table>\n",
              "</div>\n",
              "      <button class=\"colab-df-convert\" onclick=\"convertToInteractive('df-688e0105-f5ec-42e2-9349-caefdcfedffd')\"\n",
              "              title=\"Convert this dataframe to an interactive table.\"\n",
              "              style=\"display:none;\">\n",
              "        \n",
              "  <svg xmlns=\"http://www.w3.org/2000/svg\" height=\"24px\"viewBox=\"0 0 24 24\"\n",
              "       width=\"24px\">\n",
              "    <path d=\"M0 0h24v24H0V0z\" fill=\"none\"/>\n",
              "    <path d=\"M18.56 5.44l.94 2.06.94-2.06 2.06-.94-2.06-.94-.94-2.06-.94 2.06-2.06.94zm-11 1L8.5 8.5l.94-2.06 2.06-.94-2.06-.94L8.5 2.5l-.94 2.06-2.06.94zm10 10l.94 2.06.94-2.06 2.06-.94-2.06-.94-.94-2.06-.94 2.06-2.06.94z\"/><path d=\"M17.41 7.96l-1.37-1.37c-.4-.4-.92-.59-1.43-.59-.52 0-1.04.2-1.43.59L10.3 9.45l-7.72 7.72c-.78.78-.78 2.05 0 2.83L4 21.41c.39.39.9.59 1.41.59.51 0 1.02-.2 1.41-.59l7.78-7.78 2.81-2.81c.8-.78.8-2.07 0-2.86zM5.41 20L4 18.59l7.72-7.72 1.47 1.35L5.41 20z\"/>\n",
              "  </svg>\n",
              "      </button>\n",
              "      \n",
              "  <style>\n",
              "    .colab-df-container {\n",
              "      display:flex;\n",
              "      flex-wrap:wrap;\n",
              "      gap: 12px;\n",
              "    }\n",
              "\n",
              "    .colab-df-convert {\n",
              "      background-color: #E8F0FE;\n",
              "      border: none;\n",
              "      border-radius: 50%;\n",
              "      cursor: pointer;\n",
              "      display: none;\n",
              "      fill: #1967D2;\n",
              "      height: 32px;\n",
              "      padding: 0 0 0 0;\n",
              "      width: 32px;\n",
              "    }\n",
              "\n",
              "    .colab-df-convert:hover {\n",
              "      background-color: #E2EBFA;\n",
              "      box-shadow: 0px 1px 2px rgba(60, 64, 67, 0.3), 0px 1px 3px 1px rgba(60, 64, 67, 0.15);\n",
              "      fill: #174EA6;\n",
              "    }\n",
              "\n",
              "    [theme=dark] .colab-df-convert {\n",
              "      background-color: #3B4455;\n",
              "      fill: #D2E3FC;\n",
              "    }\n",
              "\n",
              "    [theme=dark] .colab-df-convert:hover {\n",
              "      background-color: #434B5C;\n",
              "      box-shadow: 0px 1px 3px 1px rgba(0, 0, 0, 0.15);\n",
              "      filter: drop-shadow(0px 1px 2px rgba(0, 0, 0, 0.3));\n",
              "      fill: #FFFFFF;\n",
              "    }\n",
              "  </style>\n",
              "\n",
              "      <script>\n",
              "        const buttonEl =\n",
              "          document.querySelector('#df-688e0105-f5ec-42e2-9349-caefdcfedffd button.colab-df-convert');\n",
              "        buttonEl.style.display =\n",
              "          google.colab.kernel.accessAllowed ? 'block' : 'none';\n",
              "\n",
              "        async function convertToInteractive(key) {\n",
              "          const element = document.querySelector('#df-688e0105-f5ec-42e2-9349-caefdcfedffd');\n",
              "          const dataTable =\n",
              "            await google.colab.kernel.invokeFunction('convertToInteractive',\n",
              "                                                     [key], {});\n",
              "          if (!dataTable) return;\n",
              "\n",
              "          const docLinkHtml = 'Like what you see? Visit the ' +\n",
              "            '<a target=\"_blank\" href=https://colab.research.google.com/notebooks/data_table.ipynb>data table notebook</a>'\n",
              "            + ' to learn more about interactive tables.';\n",
              "          element.innerHTML = '';\n",
              "          dataTable['output_type'] = 'display_data';\n",
              "          await google.colab.output.renderOutput(dataTable, element);\n",
              "          const docLink = document.createElement('div');\n",
              "          docLink.innerHTML = docLinkHtml;\n",
              "          element.appendChild(docLink);\n",
              "        }\n",
              "      </script>\n",
              "    </div>\n",
              "  </div>\n",
              "  "
            ]
          },
          "metadata": {},
          "execution_count": 4
        }
      ],
      "source": [
        "df=pd.read_csv('/content/drive/MyDrive/dl_lecture/Fraud.csv')\n",
        "df.head()"
      ]
    },
    {
      "cell_type": "code",
      "source": [
        "from google.colab import drive\n",
        "drive.mount('/content/drive')"
      ],
      "metadata": {
        "id": "0j1jN5szCq9F",
        "colab": {
          "base_uri": "https://localhost:8080/"
        },
        "outputId": "bee02f40-2350-40f1-e45f-fe95f15c3042"
      },
      "execution_count": 3,
      "outputs": [
        {
          "output_type": "stream",
          "name": "stdout",
          "text": [
            "Mounted at /content/drive\n"
          ]
        }
      ]
    },
    {
      "cell_type": "code",
      "execution_count": 6,
      "metadata": {
        "id": "fdxA4fYaI2UE",
        "colab": {
          "base_uri": "https://localhost:8080/"
        },
        "outputId": "4d4642b1-a874-4b2f-b7ca-d1a4be9d0a4b"
      },
      "outputs": [
        {
          "output_type": "execute_result",
          "data": {
            "text/plain": [
              "step                int64\n",
              "type               object\n",
              "amount            float64\n",
              "nameOrig           object\n",
              "oldbalanceOrg     float64\n",
              "newbalanceOrig    float64\n",
              "nameDest           object\n",
              "oldbalanceDest    float64\n",
              "newbalanceDest    float64\n",
              "isFraud             int64\n",
              "isFlaggedFraud      int64\n",
              "dtype: object"
            ]
          },
          "metadata": {},
          "execution_count": 6
        }
      ],
      "source": [
        "df.dtypes"
      ]
    },
    {
      "cell_type": "code",
      "execution_count": 7,
      "metadata": {
        "id": "cznd6bT4JBQO",
        "colab": {
          "base_uri": "https://localhost:8080/"
        },
        "outputId": "7e87a694-4dfd-4f81-9101-d77fc7004535"
      },
      "outputs": [
        {
          "output_type": "execute_result",
          "data": {
            "text/plain": [
              "(6362620, 11)"
            ]
          },
          "metadata": {},
          "execution_count": 7
        }
      ],
      "source": [
        "df.shape"
      ]
    },
    {
      "cell_type": "code",
      "execution_count": 8,
      "metadata": {
        "id": "VVqef3NmJCz4",
        "colab": {
          "base_uri": "https://localhost:8080/"
        },
        "outputId": "5371f031-ed1d-4ef5-8773-4c840fe29c9e"
      },
      "outputs": [
        {
          "output_type": "execute_result",
          "data": {
            "text/plain": [
              "step              0\n",
              "type              0\n",
              "amount            0\n",
              "nameOrig          0\n",
              "oldbalanceOrg     0\n",
              "newbalanceOrig    0\n",
              "nameDest          0\n",
              "oldbalanceDest    0\n",
              "newbalanceDest    0\n",
              "isFraud           0\n",
              "isFlaggedFraud    0\n",
              "dtype: int64"
            ]
          },
          "metadata": {},
          "execution_count": 8
        }
      ],
      "source": [
        "df.isnull().sum()"
      ]
    },
    {
      "cell_type": "code",
      "execution_count": 9,
      "metadata": {
        "id": "22noPzFyKAtd",
        "colab": {
          "base_uri": "https://localhost:8080/",
          "height": 343
        },
        "outputId": "1e5f6446-dcf9-4265-9876-56f47b205641"
      },
      "outputs": [
        {
          "output_type": "display_data",
          "data": {
            "text/plain": [
              "<Figure size 432x288 with 2 Axes>"
            ],
            "image/png": "[encoded data removed]"
          },
          "metadata": {
            "needs_background": "light"
          }
        }
      ],
      "source": [
        "#To visualise null values\n",
        "sns.heatmap(df.isnull())\n",
        "plt.show()"
      ]
    },
    {
      "cell_type": "code",
      "execution_count": 10,
      "metadata": {
        "id": "aYVbh6sVJJII",
        "colab": {
          "base_uri": "https://localhost:8080/"
        },
        "outputId": "9db11b9d-6231-4660-a7a5-3d80565289bb"
      },
      "outputs": [
        {
          "output_type": "execute_result",
          "data": {
            "text/plain": [
              "0"
            ]
          },
          "metadata": {},
          "execution_count": 10
        }
      ],
      "source": [
        "df.duplicated().sum()"
      ]
    },
    {
      "cell_type": "code",
      "execution_count": 11,
      "metadata": {
        "id": "M0LxzYZRJTju"
      },
      "outputs": [],
      "source": [
        "from sklearn.preprocessing import LabelEncoder\n",
        "le=LabelEncoder()\n"
      ]
    },
    {
      "cell_type": "code",
      "execution_count": 12,
      "metadata": {
        "id": "NM3WT4qkJpus"
      },
      "outputs": [],
      "source": [
        "#separate data into categorical and numerical\n",
        "df_num=df.select_dtypes(['int64','float64'])\n",
        "df_cat=df.select_dtypes(object)"
      ]
    },
    {
      "cell_type": "code",
      "execution_count": 13,
      "metadata": {
        "id": "U4T_6HIaKiKg"
      },
      "outputs": [],
      "source": [
        "for col in df_cat:\n",
        "  le=LabelEncoder()\n",
        "  df_cat[col]=le.fit_transform(df_cat[col])"
      ]
    },
    {
      "cell_type": "code",
      "execution_count": 14,
      "metadata": {
        "id": "vCpAgZagLLza",
        "colab": {
          "base_uri": "https://localhost:8080/",
          "height": 206
        },
        "outputId": "2da90211-e945-4442-f057-1ccad19ca529"
      },
      "outputs": [
        {
          "output_type": "execute_result",
          "data": {
            "text/plain": [
              "   type  nameOrig  nameDest  step    amount  oldbalanceOrg  newbalanceOrig  \\\n",
              "0     3    757869   1662094     1   9839.64       170136.0       160296.36   \n",
              "1     3   2188998   1733924     1   1864.28        21249.0        19384.72   \n",
              "2     4   1002156    439685     1    181.00          181.0            0.00   \n",
              "3     1   5828262    391696     1    181.00          181.0            0.00   \n",
              "4     3   3445981    828919     1  11668.14        41554.0        29885.86   \n",
              "\n",
              "   oldbalanceDest  newbalanceDest  isFraud  isFlaggedFraud  \n",
              "0             0.0             0.0        0               0  \n",
              "1             0.0             0.0        0               0  \n",
              "2             0.0             0.0        1               0  \n",
              "3         21182.0             0.0        1               0  \n",
              "4             0.0             0.0        0               0  "
            ],
            "text/html": [
              "\n",
              "  <div id=\"df-810f82b8-0842-4358-a6ab-b63e666eb149\">\n",
              "    <div class=\"colab-df-container\">\n",
              "      <div>\n",
              "<style scoped>\n",
              "    .dataframe tbody tr th:only-of-type {\n",
              "        vertical-align: middle;\n",
              "    }\n",
              "\n",
              "    .dataframe tbody tr th {\n",
              "        vertical-align: top;\n",
              "    }\n",
              "\n",
              "    .dataframe thead th {\n",
              "        text-align: right;\n",
              "    }\n",
              "</style>\n",
              "<table border=\"1\" class=\"dataframe\">\n",
              "  <thead>\n",
              "    <tr style=\"text-align: right;\">\n",
              "      <th></th>\n",
              "      <th>type</th>\n",
              "      <th>nameOrig</th>\n",
              "      <th>nameDest</th>\n",
              "      <th>step</th>\n",
              "      <th>amount</th>\n",
              "      <th>oldbalanceOrg</th>\n",
              "      <th>newbalanceOrig</th>\n",
              "      <th>oldbalanceDest</th>\n",
              "      <th>newbalanceDest</th>\n",
              "      <th>isFraud</th>\n",
              "      <th>isFlaggedFraud</th>\n",
              "    </tr>\n",
              "  </thead>\n",
              "  <tbody>\n",
              "    <tr>\n",
              "      <th>0</th>\n",
              "      <td>3</td>\n",
              "      <td>757869</td>\n",
              "      <td>1662094</td>\n",
              "      <td>1</td>\n",
              "      <td>9839.64</td>\n",
              "      <td>170136.0</td>\n",
              "      <td>160296.36</td>\n",
              "      <td>0.0</td>\n",
              "      <td>0.0</td>\n",
              "      <td>0</td>\n",
              "      <td>0</td>\n",
              "    </tr>\n",
              "    <tr>\n",
              "      <th>1</th>\n",
              "      <td>3</td>\n",
              "      <td>2188998</td>\n",
              "      <td>1733924</td>\n",
              "      <td>1</td>\n",
              "      <td>1864.28</td>\n",
              "      <td>21249.0</td>\n",
              "      <td>19384.72</td>\n",
              "      <td>0.0</td>\n",
              "      <td>0.0</td>\n",
              "      <td>0</td>\n",
              "      <td>0</td>\n",
              "    </tr>\n",
              "    <tr>\n",
              "      <th>2</th>\n",
              "      <td>4</td>\n",
              "      <td>1002156</td>\n",
              "      <td>439685</td>\n",
              "      <td>1</td>\n",
              "      <td>181.00</td>\n",
              "      <td>181.0</td>\n",
              "      <td>0.00</td>\n",
              "      <td>0.0</td>\n",
              "      <td>0.0</td>\n",
              "      <td>1</td>\n",
              "      <td>0</td>\n",
              "    </tr>\n",
              "    <tr>\n",
              "      <th>3</th>\n",
              "      <td>1</td>\n",
              "      <td>5828262</td>\n",
              "      <td>391696</td>\n",
              "      <td>1</td>\n",
              "      <td>181.00</td>\n",
              "      <td>181.0</td>\n",
              "      <td>0.00</td>\n",
              "      <td>21182.0</td>\n",
              "      <td>0.0</td>\n",
              "      <td>1</td>\n",
              "      <td>0</td>\n",
              "    </tr>\n",
              "    <tr>\n",
              "      <th>4</th>\n",
              "      <td>3</td>\n",
              "      <td>3445981</td>\n",
              "      <td>828919</td>\n",
              "      <td>1</td>\n",
              "      <td>11668.14</td>\n",
              "      <td>41554.0</td>\n",
              "      <td>29885.86</td>\n",
              "      <td>0.0</td>\n",
              "      <td>0.0</td>\n",
              "      <td>0</td>\n",
              "      <td>0</td>\n",
              "    </tr>\n",
              "  </tbody>\n",
              "</table>\n",
              "</div>\n",
              "      <button class=\"colab-df-convert\" onclick=\"convertToInteractive('df-810f82b8-0842-4358-a6ab-b63e666eb149')\"\n",
              "              title=\"Convert this dataframe to an interactive table.\"\n",
              "              style=\"display:none;\">\n",
              "        \n",
              "  <svg xmlns=\"http://www.w3.org/2000/svg\" height=\"24px\"viewBox=\"0 0 24 24\"\n",
              "       width=\"24px\">\n",
              "    <path d=\"M0 0h24v24H0V0z\" fill=\"none\"/>\n",
              "    <path d=\"M18.56 5.44l.94 2.06.94-2.06 2.06-.94-2.06-.94-.94-2.06-.94 2.06-2.06.94zm-11 1L8.5 8.5l.94-2.06 2.06-.94-2.06-.94L8.5 2.5l-.94 2.06-2.06.94zm10 10l.94 2.06.94-2.06 2.06-.94-2.06-.94-.94-2.06-.94 2.06-2.06.94z\"/><path d=\"M17.41 7.96l-1.37-1.37c-.4-.4-.92-.59-1.43-.59-.52 0-1.04.2-1.43.59L10.3 9.45l-7.72 7.72c-.78.78-.78 2.05 0 2.83L4 21.41c.39.39.9.59 1.41.59.51 0 1.02-.2 1.41-.59l7.78-7.78 2.81-2.81c.8-.78.8-2.07 0-2.86zM5.41 20L4 18.59l7.72-7.72 1.47 1.35L5.41 20z\"/>\n",
              "  </svg>\n",
              "      </button>\n",
              "      \n",
              "  <style>\n",
              "    .colab-df-container {\n",
              "      display:flex;\n",
              "      flex-wrap:wrap;\n",
              "      gap: 12px;\n",
              "    }\n",
              "\n",
              "    .colab-df-convert {\n",
              "      background-color: #E8F0FE;\n",
              "      border: none;\n",
              "      border-radius: 50%;\n",
              "      cursor: pointer;\n",
              "      display: none;\n",
              "      fill: #1967D2;\n",
              "      height: 32px;\n",
              "      padding: 0 0 0 0;\n",
              "      width: 32px;\n",
              "    }\n",
              "\n",
              "    .colab-df-convert:hover {\n",
              "      background-color: #E2EBFA;\n",
              "      box-shadow: 0px 1px 2px rgba(60, 64, 67, 0.3), 0px 1px 3px 1px rgba(60, 64, 67, 0.15);\n",
              "      fill: #174EA6;\n",
              "    }\n",
              "\n",
              "    [theme=dark] .colab-df-convert {\n",
              "      background-color: #3B4455;\n",
              "      fill: #D2E3FC;\n",
              "    }\n",
              "\n",
              "    [theme=dark] .colab-df-convert:hover {\n",
              "      background-color: #434B5C;\n",
              "      box-shadow: 0px 1px 3px 1px rgba(0, 0, 0, 0.15);\n",
              "      filter: drop-shadow(0px 1px 2px rgba(0, 0, 0, 0.3));\n",
              "      fill: #FFFFFF;\n",
              "    }\n",
              "  </style>\n",
              "\n",
              "      <script>\n",
              "        const buttonEl =\n",
              "          document.querySelector('#df-810f82b8-0842-4358-a6ab-b63e666eb149 button.colab-df-convert');\n",
              "        buttonEl.style.display =\n",
              "          google.colab.kernel.accessAllowed ? 'block' : 'none';\n",
              "\n",
              "        async function convertToInteractive(key) {\n",
              "          const element = document.querySelector('#df-810f82b8-0842-4358-a6ab-b63e666eb149');\n",
              "          const dataTable =\n",
              "            await google.colab.kernel.invokeFunction('convertToInteractive',\n",
              "                                                     [key], {});\n",
              "          if (!dataTable) return;\n",
              "\n",
              "          const docLinkHtml = 'Like what you see? Visit the ' +\n",
              "            '<a target=\"_blank\" href=https://colab.research.google.com/notebooks/data_table.ipynb>data table notebook</a>'\n",
              "            + ' to learn more about interactive tables.';\n",
              "          element.innerHTML = '';\n",
              "          dataTable['output_type'] = 'display_data';\n",
              "          await google.colab.output.renderOutput(dataTable, element);\n",
              "          const docLink = document.createElement('div');\n",
              "          docLink.innerHTML = docLinkHtml;\n",
              "          element.appendChild(docLink);\n",
              "        }\n",
              "      </script>\n",
              "    </div>\n",
              "  </div>\n",
              "  "
            ]
          },
          "metadata": {},
          "execution_count": 14
        }
      ],
      "source": [
        "#concatenate\n",
        "df_new=pd.concat([df_cat,df_num],axis=1)\n",
        "df_new.head()"
      ]
    },
    {
      "cell_type": "code",
      "execution_count": 15,
      "metadata": {
        "id": "EmgOQ91RLdnR"
      },
      "outputs": [],
      "source": [
        "x=df_new.drop('isFraud',axis=1)\n",
        "y=df_new['isFraud']"
      ]
    },
    {
      "cell_type": "code",
      "execution_count": 16,
      "metadata": {
        "id": "jGsZOMpjOaJH"
      },
      "outputs": [],
      "source": [
        "from sklearn.model_selection import train_test_split\n",
        "x_train,x_test,y_train,y_test=train_test_split(x,y,test_size=.3,random_state=1)"
      ]
    },
    {
      "cell_type": "code",
      "execution_count": 17,
      "metadata": {
        "id": "zlxkYHVAOCs_"
      },
      "outputs": [],
      "source": [
        "from sklearn.preprocessing import StandardScaler\n",
        "ss=StandardScaler()\n",
        "x_train=ss.fit_transform(x_train)\n",
        "x_test=ss.transform(x_test)"
      ]
    },
    {
      "cell_type": "code",
      "execution_count": 18,
      "metadata": {
        "id": "GZHzNkB2O2z2",
        "colab": {
          "base_uri": "https://localhost:8080/"
        },
        "outputId": "f45267fc-088d-473d-a482-35418e957287"
      },
      "outputs": [
        {
          "output_type": "execute_result",
          "data": {
            "text/plain": [
              "0    6354407\n",
              "1       8213\n",
              "Name: isFraud, dtype: int64"
            ]
          },
          "metadata": {},
          "execution_count": 18
        }
      ],
      "source": [
        "df['isFraud'].value_counts()"
      ]
    },
    {
      "cell_type": "code",
      "execution_count": 19,
      "metadata": {
        "id": "jK34N_93PTag",
        "colab": {
          "base_uri": "https://localhost:8080/",
          "height": 345
        },
        "outputId": "e2908f28-794e-4b12-b60e-90e31c07815a"
      },
      "outputs": [
        {
          "output_type": "display_data",
          "data": {
            "text/plain": [
              "<Figure size 720x360 with 1 Axes>"
            ],
            "image/png": "[encoded data removed]"
          },
          "metadata": {
            "needs_background": "light"
          }
        }
      ],
      "source": [
        "plt.figure(figsize=(10,5))\n",
        "sns.countplot(data=df_new,x='isFraud')\n",
        "f = df_new['isFraud'].value_counts()\n",
        "plt.yticks(f)\n",
        "plt.show()\n"
      ]
    },
    {
      "cell_type": "code",
      "execution_count": 20,
      "metadata": {
        "id": "Jvmm8cIDPqbk"
      },
      "outputs": [],
      "source": [
        "#!pip install imblearn\n",
        "from imblearn.over_sampling import RandomOverSampler\n",
        "ros=RandomOverSampler(random_state=1)"
      ]
    },
    {
      "cell_type": "code",
      "execution_count": 21,
      "metadata": {
        "id": "zICieu5OPyUV"
      },
      "outputs": [],
      "source": [
        "#training\n",
        "x_train_ros,y_train_ros=ros.fit_resample(x_train,y_train)"
      ]
    },
    {
      "cell_type": "code",
      "execution_count": 22,
      "metadata": {
        "id": "uZy677nYP2NY",
        "colab": {
          "base_uri": "https://localhost:8080/"
        },
        "outputId": "12098dcf-91f9-4d48-e598-27fd7ec66051"
      },
      "outputs": [
        {
          "output_type": "execute_result",
          "data": {
            "text/plain": [
              "0    4448089\n",
              "1    4448089\n",
              "Name: isFraud, dtype: int64"
            ]
          },
          "metadata": {},
          "execution_count": 22
        }
      ],
      "source": [
        "y_train_ros.value_counts()"
      ]
    },
    {
      "cell_type": "code",
      "execution_count": 23,
      "metadata": {
        "id": "20JlUl-gP6Um",
        "colab": {
          "base_uri": "https://localhost:8080/"
        },
        "outputId": "d282443b-38af-4511-90a4-b3e50af2741b"
      },
      "outputs": [
        {
          "output_type": "execute_result",
          "data": {
            "text/plain": [
              "0    1906318\n",
              "1       2468\n",
              "Name: isFraud, dtype: int64"
            ]
          },
          "metadata": {},
          "execution_count": 23
        }
      ],
      "source": [
        "y_test.value_counts()"
      ]
    },
    {
      "cell_type": "code",
      "execution_count": 24,
      "metadata": {
        "id": "q8AE_jGAP9ZG"
      },
      "outputs": [],
      "source": [
        "#testing\n",
        "x_test_ros,y_test_ros=ros.fit_resample(x_test,y_test)"
      ]
    },
    {
      "cell_type": "code",
      "execution_count": 25,
      "metadata": {
        "id": "Zfh5yDseQCX9",
        "colab": {
          "base_uri": "https://localhost:8080/"
        },
        "outputId": "f40744ba-6f5a-458a-a523-e4da90d41d9a"
      },
      "outputs": [
        {
          "output_type": "execute_result",
          "data": {
            "text/plain": [
              "0    1906318\n",
              "1    1906318\n",
              "Name: isFraud, dtype: int64"
            ]
          },
          "metadata": {},
          "execution_count": 25
        }
      ],
      "source": [
        "y_test_ros.value_counts()"
      ]
    },
    {
      "cell_type": "code",
      "execution_count": 26,
      "metadata": {
        "id": "Vj_9H1FZQGDs",
        "colab": {
          "base_uri": "https://localhost:8080/"
        },
        "outputId": "b7343fc2-b01e-4706-91c8-2b5347322a81"
      },
      "outputs": [
        {
          "output_type": "execute_result",
          "data": {
            "text/plain": [
              "0    4448089\n",
              "1    4448089\n",
              "Name: isFraud, dtype: int64"
            ]
          },
          "metadata": {},
          "execution_count": 26
        }
      ],
      "source": [
        "y_train_ros.value_counts()"
      ]
    },
    {
      "cell_type": "code",
      "execution_count": 27,
      "metadata": {
        "id": "Byn2IDYJQK6L"
      },
      "outputs": [],
      "source": [
        "#create architecture of neural network\n",
        "import tensorflow as tf\n",
        "#create a object of Sequential class\n",
        "model=tf.keras.models.Sequential([\n",
        "      tf.keras.layers.Dense(units=16,activation='relu',input_shape=(x.shape[1],)),\n",
        "      tf.keras.layers.Dense(units=16,activation='relu'),\n",
        "      tf.keras.layers.Dense(units=1,activation='sigmoid')\n",
        "#units=hidden layer\n",
        "])"
      ]
    },
    {
      "cell_type": "code",
      "execution_count": 28,
      "metadata": {
        "id": "qmGsBD-aQWkr",
        "colab": {
          "base_uri": "https://localhost:8080/"
        },
        "outputId": "dc519430-c7ac-4f9f-eabf-aa8a1c03c35f"
      },
      "outputs": [
        {
          "output_type": "stream",
          "name": "stdout",
          "text": [
            "Model: \"sequential\"\n",
            "_________________________________________________________________\n",
            " Layer (type)                Output Shape              Param #   \n",
            "=================================================================\n",
            " dense (Dense)               (None, 16)                176       \n",
            "                                                                 \n",
            " dense_1 (Dense)             (None, 16)                272       \n",
            "                                                                 \n",
            " dense_2 (Dense)             (None, 1)                 17        \n",
            "                                                                 \n",
            "=================================================================\n",
            "Total params: 465\n",
            "Trainable params: 465\n",
            "Non-trainable params: 0\n",
            "_________________________________________________________________\n"
          ]
        }
      ],
      "source": [
        "model.summary()"
      ]
    },
    {
      "cell_type": "code",
      "execution_count": 29,
      "metadata": {
        "id": "2phayP5qQaon"
      },
      "outputs": [],
      "source": [
        "model.compile(optimizer='adam',loss='binary_crossentropy',metrics=['accuracy'])"
      ]
    },
    {
      "cell_type": "code",
      "execution_count": 30,
      "metadata": {
        "id": "cuDk6dG5QgcR"
      },
      "outputs": [],
      "source": [
        "from tensorflow.keras.callbacks import EarlyStopping\n",
        "\n",
        "#proceedure for callback(EarlyStopping)\n",
        "cb=EarlyStopping(monitor='val_loss', #val_loss means testing error\n",
        "                  #value of lambda\n",
        "                                   min_delta=0.0001, patience=10, \n",
        "                                    verbose=1, mode='auto', #min loss\n",
        "                                    baseline=None, \n",
        "                                    restore_best_weights=False)"
      ]
    },
    {
      "cell_type": "code",
      "execution_count": 31,
      "metadata": {
        "id": "uRegmEKvQk7B",
        "colab": {
          "base_uri": "https://localhost:8080/"
        },
        "outputId": "d083fb09-b847-4196-cc41-cfa9ca02d8f1"
      },
      "outputs": [
        {
          "output_type": "stream",
          "name": "stdout",
          "text": [
            "Epoch 1/4000\n",
            "890/890 [==============================] - 9s 9ms/step - loss: 0.2945 - accuracy: 0.8644 - val_loss: 0.1495 - val_accuracy: 0.9561\n",
            "Epoch 2/4000\n",
            "890/890 [==============================] - 9s 10ms/step - loss: 0.1078 - accuracy: 0.9606 - val_loss: 0.0869 - val_accuracy: 0.9670\n",
            "Epoch 3/4000\n",
            "890/890 [==============================] - 7s 8ms/step - loss: 0.0774 - accuracy: 0.9761 - val_loss: 0.0739 - val_accuracy: 0.9677\n",
            "Epoch 4/4000\n",
            "890/890 [==============================] - 7s 7ms/step - loss: 0.0657 - accuracy: 0.9810 - val_loss: 0.0600 - val_accuracy: 0.9737\n",
            "Epoch 5/4000\n",
            "890/890 [==============================] - 7s 8ms/step - loss: 0.0588 - accuracy: 0.9836 - val_loss: 0.0555 - val_accuracy: 0.9758\n",
            "Epoch 6/4000\n",
            "890/890 [==============================] - 9s 10ms/step - loss: 0.0539 - accuracy: 0.9851 - val_loss: 0.0473 - val_accuracy: 0.9798\n",
            "Epoch 7/4000\n",
            "890/890 [==============================] - 7s 7ms/step - loss: 0.0504 - accuracy: 0.9860 - val_loss: 0.0450 - val_accuracy: 0.9805\n",
            "Epoch 8/4000\n",
            "890/890 [==============================] - 7s 8ms/step - loss: 0.0475 - accuracy: 0.9868 - val_loss: 0.0502 - val_accuracy: 0.9768\n",
            "Epoch 9/4000\n",
            "890/890 [==============================] - 7s 8ms/step - loss: 0.0450 - accuracy: 0.9874 - val_loss: 0.0458 - val_accuracy: 0.9791\n",
            "Epoch 10/4000\n",
            "890/890 [==============================] - 7s 8ms/step - loss: 0.0429 - accuracy: 0.9880 - val_loss: 0.0424 - val_accuracy: 0.9809\n",
            "Epoch 11/4000\n",
            "890/890 [==============================] - 7s 8ms/step - loss: 0.0409 - accuracy: 0.9885 - val_loss: 0.0412 - val_accuracy: 0.9813\n",
            "Epoch 12/4000\n",
            "890/890 [==============================] - 7s 8ms/step - loss: 0.0392 - accuracy: 0.9890 - val_loss: 0.0388 - val_accuracy: 0.9823\n",
            "Epoch 13/4000\n",
            "890/890 [==============================] - 7s 8ms/step - loss: 0.0378 - accuracy: 0.9893 - val_loss: 0.0391 - val_accuracy: 0.9822\n",
            "Epoch 14/4000\n",
            "890/890 [==============================] - 7s 8ms/step - loss: 0.0365 - accuracy: 0.9897 - val_loss: 0.0326 - val_accuracy: 0.9858\n",
            "Epoch 15/4000\n",
            "890/890 [==============================] - 7s 7ms/step - loss: 0.0353 - accuracy: 0.9900 - val_loss: 0.0357 - val_accuracy: 0.9843\n",
            "Epoch 16/4000\n",
            "890/890 [==============================] - 8s 9ms/step - loss: 0.0343 - accuracy: 0.9903 - val_loss: 0.0306 - val_accuracy: 0.9869\n",
            "Epoch 17/4000\n",
            "890/890 [==============================] - 7s 8ms/step - loss: 0.0333 - accuracy: 0.9905 - val_loss: 0.0356 - val_accuracy: 0.9842\n",
            "Epoch 18/4000\n",
            "890/890 [==============================] - 7s 7ms/step - loss: 0.0325 - accuracy: 0.9908 - val_loss: 0.0333 - val_accuracy: 0.9855\n",
            "Epoch 19/4000\n",
            "890/890 [==============================] - 6s 7ms/step - loss: 0.0317 - accuracy: 0.9910 - val_loss: 0.0314 - val_accuracy: 0.9865\n",
            "Epoch 20/4000\n",
            "890/890 [==============================] - 6s 7ms/step - loss: 0.0310 - accuracy: 0.9912 - val_loss: 0.0291 - val_accuracy: 0.9877\n",
            "Epoch 21/4000\n",
            "890/890 [==============================] - 6s 7ms/step - loss: 0.0303 - accuracy: 0.9914 - val_loss: 0.0302 - val_accuracy: 0.9872\n",
            "Epoch 22/4000\n",
            "890/890 [==============================] - 9s 10ms/step - loss: 0.0297 - accuracy: 0.9916 - val_loss: 0.0290 - val_accuracy: 0.9877\n",
            "Epoch 23/4000\n",
            "890/890 [==============================] - 9s 10ms/step - loss: 0.0292 - accuracy: 0.9917 - val_loss: 0.0311 - val_accuracy: 0.9868\n",
            "Epoch 24/4000\n",
            "890/890 [==============================] - 6s 7ms/step - loss: 0.0287 - accuracy: 0.9919 - val_loss: 0.0257 - val_accuracy: 0.9894\n",
            "Epoch 25/4000\n",
            "890/890 [==============================] - 7s 7ms/step - loss: 0.0282 - accuracy: 0.9920 - val_loss: 0.0255 - val_accuracy: 0.9894\n",
            "Epoch 26/4000\n",
            "890/890 [==============================] - 6s 7ms/step - loss: 0.0276 - accuracy: 0.9922 - val_loss: 0.0249 - val_accuracy: 0.9898\n",
            "Epoch 27/4000\n",
            "890/890 [==============================] - 7s 8ms/step - loss: 0.0272 - accuracy: 0.9923 - val_loss: 0.0272 - val_accuracy: 0.9889\n",
            "Epoch 28/4000\n",
            "890/890 [==============================] - 6s 7ms/step - loss: 0.0267 - accuracy: 0.9925 - val_loss: 0.0288 - val_accuracy: 0.9880\n",
            "Epoch 29/4000\n",
            "890/890 [==============================] - 7s 8ms/step - loss: 0.0262 - accuracy: 0.9926 - val_loss: 0.0253 - val_accuracy: 0.9897\n",
            "Epoch 30/4000\n",
            "890/890 [==============================] - 7s 7ms/step - loss: 0.0259 - accuracy: 0.9927 - val_loss: 0.0230 - val_accuracy: 0.9906\n",
            "Epoch 31/4000\n",
            "890/890 [==============================] - 7s 7ms/step - loss: 0.0254 - accuracy: 0.9928 - val_loss: 0.0253 - val_accuracy: 0.9899\n",
            "Epoch 32/4000\n",
            "890/890 [==============================] - 7s 7ms/step - loss: 0.0251 - accuracy: 0.9930 - val_loss: 0.0243 - val_accuracy: 0.9901\n",
            "Epoch 33/4000\n",
            "890/890 [==============================] - 7s 8ms/step - loss: 0.0248 - accuracy: 0.9930 - val_loss: 0.0322 - val_accuracy: 0.9872\n",
            "Epoch 34/4000\n",
            "890/890 [==============================] - 9s 10ms/step - loss: 0.0245 - accuracy: 0.9931 - val_loss: 0.0221 - val_accuracy: 0.9913\n",
            "Epoch 35/4000\n",
            "890/890 [==============================] - 7s 8ms/step - loss: 0.0242 - accuracy: 0.9933 - val_loss: 0.0282 - val_accuracy: 0.9889\n",
            "Epoch 36/4000\n",
            "890/890 [==============================] - 7s 8ms/step - loss: 0.0239 - accuracy: 0.9933 - val_loss: 0.0212 - val_accuracy: 0.9918\n",
            "Epoch 37/4000\n",
            "890/890 [==============================] - 7s 8ms/step - loss: 0.0236 - accuracy: 0.9934 - val_loss: 0.0201 - val_accuracy: 0.9923\n",
            "Epoch 38/4000\n",
            "890/890 [==============================] - 7s 8ms/step - loss: 0.0233 - accuracy: 0.9935 - val_loss: 0.0307 - val_accuracy: 0.9884\n",
            "Epoch 39/4000\n",
            "890/890 [==============================] - 9s 10ms/step - loss: 0.0232 - accuracy: 0.9935 - val_loss: 0.0185 - val_accuracy: 0.9930\n",
            "Epoch 40/4000\n",
            "890/890 [==============================] - 7s 8ms/step - loss: 0.0227 - accuracy: 0.9936 - val_loss: 0.0250 - val_accuracy: 0.9905\n",
            "Epoch 41/4000\n",
            "890/890 [==============================] - 7s 8ms/step - loss: 0.0226 - accuracy: 0.9937 - val_loss: 0.0190 - val_accuracy: 0.9928\n",
            "Epoch 42/4000\n",
            "890/890 [==============================] - 7s 7ms/step - loss: 0.0224 - accuracy: 0.9937 - val_loss: 0.0224 - val_accuracy: 0.9915\n",
            "Epoch 43/4000\n",
            "890/890 [==============================] - 7s 8ms/step - loss: 0.0221 - accuracy: 0.9938 - val_loss: 0.0242 - val_accuracy: 0.9908\n",
            "Epoch 44/4000\n",
            "890/890 [==============================] - 7s 8ms/step - loss: 0.0220 - accuracy: 0.9939 - val_loss: 0.0229 - val_accuracy: 0.9913\n",
            "Epoch 45/4000\n",
            "890/890 [==============================] - 7s 8ms/step - loss: 0.0218 - accuracy: 0.9939 - val_loss: 0.0186 - val_accuracy: 0.9933\n",
            "Epoch 46/4000\n",
            "890/890 [==============================] - 7s 8ms/step - loss: 0.0215 - accuracy: 0.9940 - val_loss: 0.0215 - val_accuracy: 0.9921\n",
            "Epoch 47/4000\n",
            "890/890 [==============================] - 7s 8ms/step - loss: 0.0214 - accuracy: 0.9940 - val_loss: 0.0218 - val_accuracy: 0.9919\n",
            "Epoch 48/4000\n",
            "890/890 [==============================] - 7s 8ms/step - loss: 0.0213 - accuracy: 0.9941 - val_loss: 0.0228 - val_accuracy: 0.9916\n",
            "Epoch 49/4000\n",
            "890/890 [==============================] - 7s 8ms/step - loss: 0.0210 - accuracy: 0.9941 - val_loss: 0.0192 - val_accuracy: 0.9929\n",
            "Epoch 49: early stopping\n"
          ]
        }
      ],
      "source": [
        "x_train,x_val,y_train,y_val=train_test_split(x_train,y_train,test_size=0.2,random_state=1)\n",
        "trained_model=model.fit(x_train_ros,y_train_ros,epochs=4000,batch_size=10000,callbacks=cb,validation_data=(x_val,y_val))"
      ]
    },
    {
      "cell_type": "code",
      "execution_count": 32,
      "metadata": {
        "id": "I30q6xl8Q0fO",
        "colab": {
          "base_uri": "https://localhost:8080/"
        },
        "outputId": "c07e77ba-e0d5-4721-a442-991450b925c5"
      },
      "outputs": [
        {
          "output_type": "stream",
          "name": "stdout",
          "text": [
            "278006/278006 [==============================] - 392s 1ms/step - loss: 0.0202 - accuracy: 0.9944\n"
          ]
        },
        {
          "output_type": "execute_result",
          "data": {
            "text/plain": [
              "[0.020208891481161118, 0.9944150447845459]"
            ]
          },
          "metadata": {},
          "execution_count": 32
        }
      ],
      "source": [
        "#training loss and training score\n",
        "# model evaluation\n",
        "model.evaluate(x_train_ros,y_train_ros)"
      ]
    },
    {
      "cell_type": "code",
      "source": [
        "# testing loss and testing accuracy\n",
        "model.evaluate(x_test_ros,y_test_ros)"
      ],
      "metadata": {
        "colab": {
          "base_uri": "https://localhost:8080/"
        },
        "id": "oVbYOT8vBc7-",
        "outputId": "61aa1b9d-d211-456f-9a5e-56521d29b818"
      },
      "execution_count": 33,
      "outputs": [
        {
          "output_type": "stream",
          "name": "stdout",
          "text": [
            "119145/119145 [==============================] - 165s 1ms/step - loss: 0.0242 - accuracy: 0.9944\n"
          ]
        },
        {
          "output_type": "execute_result",
          "data": {
            "text/plain": [
              "[0.024186700582504272, 0.9944172501564026]"
            ]
          },
          "metadata": {},
          "execution_count": 33
        }
      ]
    },
    {
      "cell_type": "code",
      "source": [
        "# visualization\n",
        "plt.plot(trained_model.history['loss'],color='red',label='Training loss')\n",
        "plt.plot(trained_model.history['val_loss'],color='blue',label='Testing loss')\n",
        "plt.legend()\n",
        "plt.show()"
      ],
      "metadata": {
        "colab": {
          "base_uri": "https://localhost:8080/",
          "height": 265
        },
        "id": "ANHPAScABdAO",
        "outputId": "457175ac-22a9-48f0-e3e4-2c0c1c8a7c7b"
      },
      "execution_count": 34,
      "outputs": [
        {
          "output_type": "display_data",
          "data": {
            "text/plain": [
              "<Figure size 432x288 with 1 Axes>"
            ],
            "image/png": "[encoded data removed]"
          },
          "metadata": {
            "needs_background": "light"
          }
        }
      ]
    },
    {
      "cell_type": "code",
      "source": [
        "plt.plot(trained_model.history['accuracy'],color='red',label='Training accuracy')\n",
        "plt.plot(trained_model.history['val_accuracy'],color='blue',label='Testing accuracy')\n",
        "plt.legend()\n",
        "plt.show()"
      ],
      "metadata": {
        "colab": {
          "base_uri": "https://localhost:8080/",
          "height": 268
        },
        "id": "GI06KpBWBdE-",
        "outputId": "658311cd-5d6c-4a8f-c2b3-9ba4abe8f936"
      },
      "execution_count": 35,
      "outputs": [
        {
          "output_type": "display_data",
          "data": {
            "text/plain": [
              "<Figure size 432x288 with 1 Axes>"
            ],
            "image/png": "[encoded data removed]"
          },
          "metadata": {
            "needs_background": "light"
          }
        }
      ]
    },
    {
      "cell_type": "code",
      "source": [
        "# testing the model\n",
        "y_pred=model.predict(x_test_ros) #gives the probability value of each class for each row\n",
        "y_pred"
      ],
      "metadata": {
        "colab": {
          "base_uri": "https://localhost:8080/"
        },
        "id": "DD9iVvoqBp8L",
        "outputId": "85767772-1017-4f63-8b25-a1f8b58fc52a"
      },
      "execution_count": 36,
      "outputs": [
        {
          "output_type": "execute_result",
          "data": {
            "text/plain": [
              "array([[2.8718636e-17],\n",
              "       [1.4173461e-06],\n",
              "       [3.6488217e-07],\n",
              "       ...,\n",
              "       [9.6682942e-01],\n",
              "       [9.3119872e-01],\n",
              "       [9.9310076e-01]], dtype=float32)"
            ]
          },
          "metadata": {},
          "execution_count": 36
        }
      ]
    },
    {
      "cell_type": "code",
      "source": [
        "y_pred=np.where(y_pred>=0.5,1,0)\n",
        "y_pred"
      ],
      "metadata": {
        "colab": {
          "base_uri": "https://localhost:8080/"
        },
        "id": "4tF0QdFPBdI7",
        "outputId": "e7b6797a-84b9-4a67-902f-a9fa98d8f8f2"
      },
      "execution_count": 37,
      "outputs": [
        {
          "output_type": "execute_result",
          "data": {
            "text/plain": [
              "array([[0],\n",
              "       [0],\n",
              "       [0],\n",
              "       ...,\n",
              "       [1],\n",
              "       [1],\n",
              "       [1]])"
            ]
          },
          "metadata": {},
          "execution_count": 37
        }
      ]
    },
    {
      "cell_type": "code",
      "source": [
        "from sklearn.metrics import classification_report,confusion_matrix\n",
        "print(classification_report(y_test_ros,y_pred))\n",
        "print(confusion_matrix(y_test_ros,y_pred))"
      ],
      "metadata": {
        "colab": {
          "base_uri": "https://localhost:8080/"
        },
        "id": "Zzc4ttuiBdNa",
        "outputId": "99bd0d79-00b0-4e31-a599-5bcfde01622d"
      },
      "execution_count": 38,
      "outputs": [
        {
          "output_type": "stream",
          "name": "stdout",
          "text": [
            "              precision    recall  f1-score   support\n",
            "\n",
            "           0       1.00      0.99      0.99   1906318\n",
            "           1       0.99      1.00      0.99   1906318\n",
            "\n",
            "    accuracy                           0.99   3812636\n",
            "   macro avg       0.99      0.99      0.99   3812636\n",
            "weighted avg       0.99      0.99      0.99   3812636\n",
            "\n",
            "[[1892650   13668]\n",
            " [   7617 1898701]]\n"
          ]
        }
      ]
    },
    {
      "cell_type": "code",
      "source": [
        ""
      ],
      "metadata": {
        "id": "KnsiZBvOBwBp"
      },
      "execution_count": null,
      "outputs": []
    },
    {
      "cell_type": "code",
      "source": [
        ""
      ],
      "metadata": {
        "id": "YGDShDlwBwF2"
      },
      "execution_count": null,
      "outputs": []
    },
    {
      "cell_type": "code",
      "source": [
        ""
      ],
      "metadata": {
        "id": "qzwvpPgQBwM7"
      },
      "execution_count": null,
      "outputs": []
    },
    {
      "cell_type": "code",
      "source": [
        ""
      ],
      "metadata": {
        "id": "vVta8qoXBwRv"
      },
      "execution_count": null,
      "outputs": []
    },
    {
      "cell_type": "code",
      "source": [
        ""
      ],
      "metadata": {
        "id": "MVnFPJZQBwVi"
      },
      "execution_count": null,
      "outputs": []
    }
  ],
  "metadata": {
    "colab": {
      "collapsed_sections": [],
      "name": "Untitled0.ipynb",
      "provenance": []
    },
    "kernelspec": {
      "display_name": "Python 3",
      "name": "python3"
    },
    "language_info": {
      "name": "python"
    }
  },
  "nbformat": 4,
  "nbformat_minor": 0
}